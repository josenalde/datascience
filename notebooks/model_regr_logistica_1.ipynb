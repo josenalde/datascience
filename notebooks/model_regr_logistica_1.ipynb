{
 "cells": [
  {
   "cell_type": "markdown",
   "id": "fec635c1",
   "metadata": {},
   "source": [
    "### Classificador com Regressão Logística Binária (variável target com duas possibilidades)\n",
    "\n",
    "#### Técnica SUPERVISIONADA para predizer a probabilidade de evento ocorrer em função de uma ou mais features métricas ou não métricas. A classificação visa determinar e inserir indivíduos em categorias específicas\n",
    "\n",
    "Seja $s$ a probabilidade da resposta ser SIM. Então $1-s$ é a probabilidade da resposta ser NÃO. A CHANCE (odds) de ocorrência de evento é a razão entre as probabilidades, ou seja, $chance = \\dfrac{s}{1-s}$\n",
    "\n",
    "A regressão logística binária baseia-se na Distribuição de Bernouli, que é a distribuição discreta de espaço amostral {0, 1}. Seja $Z=\\beta_0 + \\beta_1 x_{1i} + \\beta_2 x_{2i} + \\cdots +  \\beta_k x_{ki}$. Definindo o termo LOGITO como o logaritmo natural da chance de ocorrência de uma resposta do tipo SIM, tem-se:\n",
    "\n",
    "$logito=Z=ln \\left( \\dfrac{s}{1-s} \\right) \\\\$\n",
    "$e^{logito} = e^Z = \\dfrac{s}{1-s} \\implies $\n",
    "$s=\\dfrac{e^Z}{1+e^Z} \\implies \\dfrac{1}{e^{-Z}+1}$\n",
    "\n",
    "<img src='figlogit1.png'>\n",
    "\n",
    "A curva descritiva assume valores entre $0$ e $1$ para $Z$ no intervalo $-\\infty,+\\infty$. Tem-se assim a função logística:\n",
    "\n",
    "$s_i = \\dfrac{1}{e^{-Z_i}+1} = \\dfrac{1}{e^{-\\left( \\beta_0 + \\beta_1 x_{1i} + \\beta_2 x_{2i} + \\cdots +  \\beta_k x_{ki} \\right)}+1}$\n",
    "\n",
    "A estimação dos parâmetros não se dá por mínimos quadrados, mas pela técnica da máxima verossimilhança (maximizar o acerto da probabilidade de ocorrência frente à sua real ocorrência). A qualidade do modelo pode ser avaliada por teste estatístico nos parâmetros e por matriz de confusão"
   ]
  },
  {
   "cell_type": "code",
   "execution_count": 1,
   "id": "17c507bf",
   "metadata": {},
   "outputs": [],
   "source": [
    "#adaptado de https://www.youtube.com/watch?v=WKvrpEa-Hl0\n",
    "from sklearn.datasets import load_iris\n",
    "X, y = load_iris(return_X_y = True, as_frame=True)"
   ]
  },
  {
   "cell_type": "code",
   "execution_count": 5,
   "id": "55be4a18",
   "metadata": {},
   "outputs": [],
   "source": [
    "# vamos usar apenas a feature petal width (cm), e apenas as linhas do dataframe onde y é da classe 0 ou 1 (binário)\n",
    "\n",
    "X = X.loc[y.isin([0,1]), 'petal width (cm)'].values # gera array\n",
    "y = y[y.isin([0,1])].values #gera array\n"
   ]
  },
  {
   "cell_type": "code",
   "execution_count": 8,
   "id": "60634a4a",
   "metadata": {},
   "outputs": [],
   "source": [
    "from sklearn.model_selection import train_test_split\n",
    "X_train, X_test, y_train, y_test = train_test_split(X, y, test_size=0.30, random_state=42)"
   ]
  },
  {
   "cell_type": "code",
   "execution_count": 9,
   "id": "6c414b0d",
   "metadata": {},
   "outputs": [
    {
     "data": {
      "text/plain": [
       "[[<matplotlib.axis.YTick at 0x1fc5e3bfdc0>,\n",
       "  <matplotlib.axis.YTick at 0x1fc5e3bf760>],\n",
       " [<matplotlib.axis.XTick at 0x1fc5e3bf100>,\n",
       "  <matplotlib.axis.XTick at 0x1fc5e3bf0d0>,\n",
       "  <matplotlib.axis.XTick at 0x1fc5e395fa0>,\n",
       "  <matplotlib.axis.XTick at 0x1fc5e411af0>,\n",
       "  <matplotlib.axis.XTick at 0x1fc5e4255e0>,\n",
       "  <matplotlib.axis.XTick at 0x1fc5e425e50>]]"
      ]
     },
     "execution_count": 9,
     "metadata": {},
     "output_type": "execute_result"
    },
    {
     "data": {
      "image/png": "[encoded data removed]",
      "text/plain": [
       "<Figure size 640x480 with 1 Axes>"
      ]
     },
     "metadata": {},
     "output_type": "display_data"
    }
   ],
   "source": [
    "import matplotlib.pyplot as plt\n",
    "fig, ax = plt.subplots()\n",
    "ax.scatter(X_train, y_train)\n",
    "ax.set(yticks = [0,1], xticks = [0, 0.3, 0.6, 0.9, 1.2, 1.5])"
   ]
  },
  {
   "cell_type": "code",
   "execution_count": 11,
   "id": "4792ff67",
   "metadata": {},
   "outputs": [],
   "source": [
    "from sklearn.linear_model import LogisticRegression\n",
    "clf = LogisticRegression(random_state=0).fit(X_train.reshape(-1,1), y_train)"
   ]
  },
  {
   "cell_type": "code",
   "execution_count": 13,
   "id": "bc7ddcb5",
   "metadata": {},
   "outputs": [
    {
     "data": {
      "text/plain": [
       "array([[3.90516193]])"
      ]
     },
     "execution_count": 13,
     "metadata": {},
     "output_type": "execute_result"
    }
   ],
   "source": [
    "# coef_angular (beta1)\n",
    "clf.coef_"
   ]
  },
  {
   "cell_type": "code",
   "execution_count": 20,
   "id": "5245de05",
   "metadata": {},
   "outputs": [
    {
     "data": {
      "text/plain": [
       "3.9051619328364082"
      ]
     },
     "execution_count": 20,
     "metadata": {},
     "output_type": "execute_result"
    }
   ],
   "source": [
    "# para pegar só o elemento usamos\n",
    "beta1 = clf.coef_[0][0]\n",
    "beta1"
   ]
  },
  {
   "cell_type": "code",
   "execution_count": 14,
   "id": "bf8044a7",
   "metadata": {},
   "outputs": [
    {
     "data": {
      "text/plain": [
       "array([-2.89824966])"
      ]
     },
     "execution_count": 14,
     "metadata": {},
     "output_type": "execute_result"
    }
   ],
   "source": [
    "# intercepto\n",
    "clf.intercept_"
   ]
  },
  {
   "cell_type": "code",
   "execution_count": 21,
   "id": "02280f09",
   "metadata": {},
   "outputs": [
    {
     "data": {
      "text/plain": [
       "-2.8982496571785092"
      ]
     },
     "execution_count": 21,
     "metadata": {},
     "output_type": "execute_result"
    }
   ],
   "source": [
    "# para pegar só o elemento usamos\n",
    "beta0 = clf.intercept_[0]\n",
    "beta0"
   ]
  },
  {
   "cell_type": "code",
   "execution_count": 15,
   "id": "ef3d8e40",
   "metadata": {},
   "outputs": [],
   "source": [
    "# para traçar o gráfico da curva logística, há no pacote scipy a função expit(x) = 1 / 1+ exp(-x)\n",
    "from scipy.special import expit"
   ]
  },
  {
   "cell_type": "code",
   "execution_count": 16,
   "id": "95470ede",
   "metadata": {},
   "outputs": [],
   "source": [
    "# vamos criar um array para o eixo x com 100 pontos\n",
    "import numpy as np\n",
    "eixo_x = np.linspace(X_train.min(), X_train.max(), 100)"
   ]
  },
  {
   "cell_type": "code",
   "execution_count": 22,
   "id": "4f412a04",
   "metadata": {},
   "outputs": [],
   "source": [
    "eixo_y = expit(beta0 + beta1*eixo_x)"
   ]
  },
  {
   "cell_type": "code",
   "execution_count": 23,
   "id": "4a57e24f",
   "metadata": {},
   "outputs": [
    {
     "data": {
      "text/plain": [
       "[[<matplotlib.axis.YTick at 0x1fc61674b80>,\n",
       "  <matplotlib.axis.YTick at 0x1fc61674520>],\n",
       " [<matplotlib.axis.XTick at 0x1fc61687ee0>,\n",
       "  <matplotlib.axis.XTick at 0x1fc61687eb0>,\n",
       "  <matplotlib.axis.XTick at 0x1fc615e0430>,\n",
       "  <matplotlib.axis.XTick at 0x1fc616a5a00>,\n",
       "  <matplotlib.axis.XTick at 0x1fc616a84f0>,\n",
       "  <matplotlib.axis.XTick at 0x1fc616a51c0>]]"
      ]
     },
     "execution_count": 23,
     "metadata": {},
     "output_type": "execute_result"
    },
    {
     "data": {
      "image/png": "[encoded data removed]",
      "text/plain": [
       "<Figure size 640x480 with 1 Axes>"
      ]
     },
     "metadata": {},
     "output_type": "display_data"
    }
   ],
   "source": [
    "fig, ax = plt.subplots()\n",
    "ax.scatter(X_train, y_train)\n",
    "ax.plot(eixo_x, eixo_y)\n",
    "ax.set(yticks = [0,1], xticks = [0, 0.3, 0.6, 0.9, 1.2, 1.5])"
   ]
  },
  {
   "cell_type": "code",
   "execution_count": 24,
   "id": "39f3ec56",
   "metadata": {},
   "outputs": [],
   "source": [
    "eixo_y_train = expit(beta0 + beta1*X_train)"
   ]
  },
  {
   "cell_type": "code",
   "execution_count": 30,
   "id": "f2000fad",
   "metadata": {},
   "outputs": [
    {
     "data": {
      "text/plain": [
       "[<matplotlib.lines.Line2D at 0x1fc63b6fa00>]"
      ]
     },
     "execution_count": 30,
     "metadata": {},
     "output_type": "execute_result"
    },
    {
     "data": {
      "image/png": "[encoded data removed]",
      "text/plain": [
       "<Figure size 640x480 with 1 Axes>"
      ]
     },
     "metadata": {},
     "output_type": "display_data"
    }
   ],
   "source": [
    "fig, ax = plt.subplots()\n",
    "ax.scatter(X_train, y_train)\n",
    "ax.plot(eixo_x, eixo_y)\n",
    "ax.scatter(X_train, eixo_y_train)\n",
    "\n",
    "#desenha linha no meio, em y=0.5\n",
    "ax.axhline(y=0.5, c='m', linestyle='--')\n",
    "\n",
    "ax.plot([0.1,0.1], [0, 0.07883025], '--g') # de 0 até a probabilidade de ser 1\n",
    "ax.plot([0.2,0.2], [0, 0.11156652], '--g')\n",
    "ax.plot([0.3,0.3], [0, 0.15560101], '--g')\n",
    "ax.plot([0.4,0.4], [0, 0.21285167], '--g')\n",
    "ax.plot([0.5,0.5], [0, 0.28408003], '--g')\n",
    "ax.plot([0.6,0.6], [0, 0.36800066], '--g')\n",
    "\n",
    "ax.plot([1,1], [0.7297,1], '--g')\n",
    "ax.plot([1.1,1.1], [0.79846697, 1], '--g')\n",
    "ax.plot([1.2,1.2], [0.8532, 1], '--g')\n",
    "ax.plot([1.3,1.3], [0.8950, 1], '--g')\n",
    "ax.plot([1.4,1.4], [0.9260, 1], '--g')\n",
    "ax.plot([1.5,1.5], [0.9483, 1], '--g')\n",
    "ax.plot([1.6,1.6], [0.9642, 1], '--g')\n"
   ]
  },
  {
   "cell_type": "code",
   "execution_count": 32,
   "id": "9d3ce063",
   "metadata": {},
   "outputs": [
    {
     "data": {
      "text/plain": [
       "array([0, 0, 1, 0, 1, 0, 1, 1, 0, 0, 0, 0, 0, 1, 0, 0, 1, 0, 1, 0, 0, 0,\n",
       "       0, 0, 0, 1, 0, 1, 0, 1, 1, 1, 1, 0, 1, 1, 0, 1, 1, 1, 1, 0, 1, 0,\n",
       "       1, 1, 1, 0, 1, 1, 1, 1, 0, 0, 0, 1, 0, 0, 0, 1, 1, 1, 1, 1, 0, 1,\n",
       "       1, 0, 1, 1])"
      ]
     },
     "execution_count": 32,
     "metadata": {},
     "output_type": "execute_result"
    }
   ],
   "source": [
    "#Naturalmente que para os dados de treino o modelo ACERTA\n",
    "clf.predict(X_train.reshape(-1,1))"
   ]
  },
  {
   "cell_type": "code",
   "execution_count": 33,
   "id": "61360b45",
   "metadata": {},
   "outputs": [
    {
     "data": {
      "text/plain": [
       "array([0.2, 0.2, 1.6, 0.2, 1. , 0.4, 1.5, 1.4, 0.2, 0.4, 0.2, 0.2, 0.2,\n",
       "       1.2, 0.2, 0.3, 1. , 0.2, 1. , 0.1, 0.2, 0.2, 0.3, 0.2, 0.2, 1.5,\n",
       "       0.3, 1.3, 0.2, 1.3, 1.6, 1.3, 1.5, 0.6, 1.4, 1. , 0.2, 1.5, 1.5,\n",
       "       1.3, 1. , 0.3, 1.3, 0.2, 1.1, 1. , 1.4, 0.1, 1.3, 1.4, 1.4, 1.5,\n",
       "       0.1, 0.2, 0.2, 1.5, 0.4, 0.2, 0.5, 1.3, 1.4, 1.3, 1.5, 1.2, 0.2,\n",
       "       1. , 1.3, 0.2, 1.2, 1.5])"
      ]
     },
     "execution_count": 33,
     "metadata": {},
     "output_type": "execute_result"
    }
   ],
   "source": [
    "X_train"
   ]
  },
  {
   "cell_type": "code",
   "execution_count": 34,
   "id": "07a3b505",
   "metadata": {},
   "outputs": [
    {
     "data": {
      "text/plain": [
       "array([0, 0, 1, 0, 1, 0, 1, 1, 0, 0, 0, 0, 0, 1, 0, 0, 1, 0, 1, 0, 0, 0,\n",
       "       0, 0, 0, 1, 0, 1, 0, 1, 1, 1, 1, 0, 1, 1, 0, 1, 1, 1, 1, 0, 1, 0,\n",
       "       1, 1, 1, 0, 1, 1, 1, 1, 0, 0, 0, 1, 0, 0, 0, 1, 1, 1, 1, 1, 0, 1,\n",
       "       1, 0, 1, 1])"
      ]
     },
     "execution_count": 34,
     "metadata": {},
     "output_type": "execute_result"
    }
   ],
   "source": [
    "y_train"
   ]
  },
  {
   "cell_type": "code",
   "execution_count": 35,
   "id": "067d7fc4",
   "metadata": {},
   "outputs": [
    {
     "data": {
      "text/plain": [
       "array([0, 0, 1, 0, 1])"
      ]
     },
     "execution_count": 35,
     "metadata": {},
     "output_type": "execute_result"
    }
   ],
   "source": [
    "# Para maior compreensão, vamos olhar só os 5 primeiros dados\n",
    "clf.predict(X_train.reshape(-1,1))[0:5]"
   ]
  },
  {
   "cell_type": "code",
   "execution_count": 36,
   "id": "119963b9",
   "metadata": {},
   "outputs": [
    {
     "data": {
      "text/plain": [
       "array([0.2, 0.2, 1.6, 0.2, 1. ])"
      ]
     },
     "execution_count": 36,
     "metadata": {},
     "output_type": "execute_result"
    }
   ],
   "source": [
    "X_train[0:5]"
   ]
  },
  {
   "cell_type": "code",
   "execution_count": 37,
   "id": "207ace03",
   "metadata": {},
   "outputs": [
    {
     "data": {
      "text/plain": [
       "array([0, 0, 1, 0, 1])"
      ]
     },
     "execution_count": 37,
     "metadata": {},
     "output_type": "execute_result"
    }
   ],
   "source": [
    "y_train[0:5]"
   ]
  },
  {
   "cell_type": "code",
   "execution_count": 40,
   "id": "6043c6b5",
   "metadata": {},
   "outputs": [
    {
     "data": {
      "text/plain": [
       "array([[0.89256538, 0.10743462],\n",
       "       [0.89256538, 0.10743462],\n",
       "       [0.03389486, 0.96610514],\n",
       "       [0.89256538, 0.10743462],\n",
       "       [0.26758456, 0.73241544]])"
      ]
     },
     "execution_count": 40,
     "metadata": {},
     "output_type": "execute_result"
    }
   ],
   "source": [
    "# checando probabilidades de ser 0 / 1\n",
    "clf.predict_proba(X_train.reshape(-1,1))[0:5]"
   ]
  },
  {
   "cell_type": "code",
   "execution_count": 41,
   "id": "6af6e1c6",
   "metadata": {},
   "outputs": [
    {
     "data": {
      "text/plain": [
       "0.10743462179898665"
      ]
     },
     "execution_count": 41,
     "metadata": {},
     "output_type": "execute_result"
    }
   ],
   "source": [
    "# estes valores de probabilidade de ser 1 são exatamente obtidos pela expressão do logito, por exempplo, para x = 0.2\n",
    "\n",
    "expit(beta0 + beta1*0.2)"
   ]
  },
  {
   "cell_type": "code",
   "execution_count": 42,
   "id": "0eeaf6dd",
   "metadata": {},
   "outputs": [
    {
     "data": {
      "text/plain": [
       "[[<matplotlib.axis.YTick at 0x1fc63bffd00>,\n",
       "  <matplotlib.axis.YTick at 0x1fc63bff6a0>],\n",
       " [<matplotlib.axis.XTick at 0x1fc63bff040>,\n",
       "  <matplotlib.axis.XTick at 0x1fc63bfdfd0>,\n",
       "  <matplotlib.axis.XTick at 0x1fc63bfdac0>,\n",
       "  <matplotlib.axis.XTick at 0x1fc63c156d0>,\n",
       "  <matplotlib.axis.XTick at 0x1fc63c15f40>,\n",
       "  <matplotlib.axis.XTick at 0x1fc63c18c70>]]"
      ]
     },
     "execution_count": 42,
     "metadata": {},
     "output_type": "execute_result"
    },
    {
     "data": {
      "image/png": "[encoded data removed]",
      "text/plain": [
       "<Figure size 640x480 with 1 Axes>"
      ]
     },
     "metadata": {},
     "output_type": "display_data"
    }
   ],
   "source": [
    "# agora aplicando nos dados de teste\n",
    "\n",
    "y_pred = clf.predict_proba(X_test.reshape(-1,1))\n",
    "\n",
    "fig, ax = plt.subplots()\n",
    "ax.scatter(X_train, y_train)\n",
    "ax.plot(eixo_x, eixo_y)\n",
    "ax.scatter(X_test, y_pred[:,1]) # pegar apenas os pontos sobre a curva, ou seja, da probabilidade ser 1\n",
    "ax.set(yticks = [0,1], xticks = [0, 0.3, 0.6, 0.9, 1.2, 1.5])"
   ]
  },
  {
   "cell_type": "code",
   "execution_count": 44,
   "id": "e750848e",
   "metadata": {},
   "outputs": [],
   "source": [
    "y_pred_valor = clf.predict(X_test.reshape(-1,1))"
   ]
  },
  {
   "cell_type": "code",
   "execution_count": 45,
   "id": "a944cf87",
   "metadata": {},
   "outputs": [
    {
     "data": {
      "text/plain": [
       "array([1, 1, 1, 0, 0, 0, 0, 1, 0, 0, 0, 0, 1, 0, 1, 0, 1, 1, 0, 0, 1, 1,\n",
       "       0, 0, 1, 0, 0, 1, 0, 1])"
      ]
     },
     "execution_count": 45,
     "metadata": {},
     "output_type": "execute_result"
    }
   ],
   "source": [
    "y_pred_valor"
   ]
  },
  {
   "cell_type": "code",
   "execution_count": 49,
   "id": "ecbd2c04",
   "metadata": {},
   "outputs": [],
   "source": [
    "# avaliando o erro por matriz de confusão\n",
    "from sklearn.metrics import confusion_matrix"
   ]
  },
  {
   "cell_type": "markdown",
   "id": "619e66cd",
   "metadata": {},
   "source": [
    "<img src='figlogit3.jpeg'>\n",
    "<img src='figlogit2.png'>"
   ]
  },
  {
   "cell_type": "code",
   "execution_count": 50,
   "id": "ba888e8f",
   "metadata": {},
   "outputs": [
    {
     "data": {
      "text/plain": [
       "array([[17,  0],\n",
       "       [ 0, 13]], dtype=int64)"
      ]
     },
     "execution_count": 50,
     "metadata": {},
     "output_type": "execute_result"
    }
   ],
   "source": [
    "confusion_matrix(y_test, y_pred_valor)"
   ]
  },
  {
   "cell_type": "markdown",
   "id": "bd4feca1",
   "metadata": {},
   "source": [
    "### Caso multinominal (mais de 2 classes) - distribuição binomial\n",
    "\n",
    "#### Por  exemplo, no caso do dataset iris são 3 classes (0, 1, 2). Se 0 for tomada como referência, existem outras duas possibilidades de evento em relação a esta categoria. São portanto dois logitos\n",
    "\n",
    "$Z_{1i}=\\beta_0 + \\beta_{11} x_{1i} + \\cdots +  \\beta_{k1} x_{ki} \\\\$\n",
    "$Z_{2i}=\\beta_1 + \\beta_{12} x_{1i} + \\cdots +  \\beta_{k2} x_{ki} $\n",
    "\n",
    "Seja $s_i = \\dfrac{e^{Z_{i}}}{e^{Z_i}+1}$ a probabilidade de ocorrência do evento\n",
    "\n",
    "Probabilidade de ocorrência do evento 0 (ref): $P_{i_{0}} = \\dfrac{1}{1+e^{Z_{1i}} + e^{Z_{2i}}}$\n",
    "\n",
    "Probabilidade de ocorrência do evento 1 (ref): $P_{i_{1}} = \\dfrac{e^{Z_{1i}}}{1+e^{Z_{1i}} + e^{Z_{2i}}}$\n",
    "\n",
    "Probabilidade de ocorrência do evento 2 (ref): $P_{i_{2}} = \\dfrac{e^{Z_{2i}}}{1+e^{Z_{1i}} + e^{Z_{2i}}}$\n",
    "\n"
   ]
  },
  {
   "cell_type": "code",
   "execution_count": 51,
   "id": "0c373594",
   "metadata": {},
   "outputs": [],
   "source": [
    "from sklearn.datasets import load_iris\n",
    "X, y = load_iris(return_X_y = True, as_frame=True)"
   ]
  },
  {
   "cell_type": "code",
   "execution_count": 52,
   "id": "eee10d83",
   "metadata": {},
   "outputs": [],
   "source": [
    "X_train, X_test, y_train, y_test = train_test_split(X, y, test_size=0.30, random_state=42)"
   ]
  },
  {
   "cell_type": "code",
   "execution_count": 54,
   "id": "4df1965d",
   "metadata": {},
   "outputs": [],
   "source": [
    "modelo_2 = LogisticRegression(random_state=0).fit(X_train, y_train) #em caso de erro de convergência, max_iter = 1000 etc."
   ]
  },
  {
   "cell_type": "code",
   "execution_count": 55,
   "id": "034b1c5c",
   "metadata": {},
   "outputs": [
    {
     "data": {
      "text/plain": [
       "array([[-0.40460836,  0.86846068, -2.27800753, -0.95748899],\n",
       "       [ 0.46652009, -0.37524521, -0.18767827, -0.72036833],\n",
       "       [-0.06191173, -0.49321546,  2.46568579,  1.67785732]])"
      ]
     },
     "execution_count": 55,
     "metadata": {},
     "output_type": "execute_result"
    }
   ],
   "source": [
    "modelo_2.coef_"
   ]
  },
  {
   "cell_type": "code",
   "execution_count": 56,
   "id": "95a317d1",
   "metadata": {},
   "outputs": [
    {
     "data": {
      "text/plain": [
       "array([  8.86215271,   2.20992081, -11.07207352])"
      ]
     },
     "execution_count": 56,
     "metadata": {},
     "output_type": "execute_result"
    }
   ],
   "source": [
    "modelo_2.intercept_"
   ]
  },
  {
   "cell_type": "code",
   "execution_count": 57,
   "id": "76875245",
   "metadata": {},
   "outputs": [
    {
     "data": {
      "text/plain": [
       "array([[4.10206916e-03, 8.12291274e-01, 1.83606657e-01],\n",
       "       [9.42033532e-01, 5.79658882e-02, 5.80105057e-07],\n",
       "       [1.58664867e-08, 2.09419625e-03, 9.97905788e-01],\n",
       "       [6.82523697e-03, 7.73233785e-01, 2.19940978e-01],\n",
       "       [1.59550163e-03, 7.51298189e-01, 2.47106309e-01],\n",
       "       [9.50092447e-01, 4.99070941e-02, 4.58694804e-07],\n",
       "       [7.78046567e-02, 9.04139641e-01, 1.80557023e-02],\n",
       "       [1.79901478e-04, 1.47492446e-01, 8.52327652e-01],\n",
       "       [2.42371271e-03, 7.80609272e-01, 2.16967015e-01],\n",
       "       [2.90088827e-02, 9.40807169e-01, 3.01839483e-02],\n",
       "       [4.73486674e-04, 2.25322613e-01, 7.74203900e-01],\n",
       "       [9.62736126e-01, 3.72636899e-02, 1.84137801e-07],\n",
       "       [9.69205505e-01, 3.07943985e-02, 9.66017228e-08],\n",
       "       [9.56059292e-01, 4.39404427e-02, 2.65388913e-07],\n",
       "       [9.76544630e-01, 2.34551800e-02, 1.89583993e-07],\n",
       "       [4.76686636e-03, 6.63333326e-01, 3.31899807e-01],\n",
       "       [9.66925351e-06, 2.67291931e-02, 9.73261138e-01],\n",
       "       [2.76992403e-02, 9.45150830e-01, 2.71499293e-02],\n",
       "       [8.70458756e-03, 8.20088691e-01, 1.71206721e-01],\n",
       "       [1.93823487e-05, 4.14600579e-02, 9.58520560e-01],\n",
       "       [9.58743903e-01, 4.12556436e-02, 4.53591689e-07],\n",
       "       [1.42994437e-03, 3.86681005e-01, 6.11889051e-01],\n",
       "       [9.56303185e-01, 4.36961682e-02, 6.46899831e-07],\n",
       "       [2.49461038e-05, 5.21108561e-02, 9.47864198e-01],\n",
       "       [1.76101490e-06, 2.03704245e-02, 9.79627814e-01],\n",
       "       [1.09786638e-04, 1.05539391e-01, 8.94350822e-01],\n",
       "       [1.25332707e-05, 6.98550492e-02, 9.30132418e-01],\n",
       "       [5.51782415e-06, 1.94944769e-02, 9.80500005e-01],\n",
       "       [9.60996818e-01, 3.90028709e-02, 3.11358628e-07],\n",
       "       [9.49518213e-01, 5.04812545e-02, 5.32703735e-07],\n",
       "       [9.93204167e-01, 6.79581796e-03, 1.52923633e-08],\n",
       "       [9.80711259e-01, 1.92886067e-02, 1.34455961e-07],\n",
       "       [6.91014084e-03, 8.90023748e-01, 1.03066112e-01],\n",
       "       [9.64683651e-01, 3.53159893e-02, 3.59713577e-07],\n",
       "       [9.82609156e-01, 1.73907429e-02, 1.01075513e-07],\n",
       "       [3.77203008e-04, 2.85378511e-01, 7.14244286e-01],\n",
       "       [7.34778613e-03, 8.12156498e-01, 1.80495715e-01],\n",
       "       [9.64167519e-01, 3.58322566e-02, 2.23925775e-07],\n",
       "       [9.78119595e-01, 2.18802893e-02, 1.15192571e-07],\n",
       "       [9.83082552e-01, 1.69173708e-02, 7.74941431e-08],\n",
       "       [4.12558145e-04, 1.94054211e-01, 8.05533231e-01],\n",
       "       [1.18313693e-02, 7.36985281e-01, 2.51183349e-01],\n",
       "       [3.04429924e-03, 7.51701804e-01, 2.45253897e-01],\n",
       "       [9.81770382e-01, 1.82295249e-02, 9.29076977e-08],\n",
       "       [9.66654765e-01, 3.33450516e-02, 1.83111470e-07]])"
      ]
     },
     "execution_count": 57,
     "metadata": {},
     "output_type": "execute_result"
    }
   ],
   "source": [
    "modelo_2.predict_proba(X_test)"
   ]
  },
  {
   "cell_type": "code",
   "execution_count": 58,
   "id": "0ec127b4",
   "metadata": {},
   "outputs": [],
   "source": [
    "y_pred = modelo_2.predict(X_test)"
   ]
  },
  {
   "cell_type": "code",
   "execution_count": 59,
   "id": "eaf99637",
   "metadata": {},
   "outputs": [
    {
     "data": {
      "text/plain": [
       "array([[19,  0,  0],\n",
       "       [ 0, 13,  0],\n",
       "       [ 0,  0, 13]], dtype=int64)"
      ]
     },
     "execution_count": 59,
     "metadata": {},
     "output_type": "execute_result"
    }
   ],
   "source": [
    "confusion_matrix(y_test, y_pred)"
   ]
  },
  {
   "cell_type": "code",
   "execution_count": 60,
   "id": "fc93dae2",
   "metadata": {},
   "outputs": [],
   "source": [
    "from sklearn import metrics"
   ]
  },
  {
   "cell_type": "markdown",
   "id": "bda25b4d",
   "metadata": {},
   "source": [
    "<img src='figlogit4.png'>"
   ]
  },
  {
   "cell_type": "code",
   "execution_count": 62,
   "id": "efb839d3",
   "metadata": {},
   "outputs": [
    {
     "data": {
      "text/plain": [
       "1.0"
      ]
     },
     "execution_count": 62,
     "metadata": {},
     "output_type": "execute_result"
    }
   ],
   "source": [
    "metrics.accuracy_score(y_test, y_pred)"
   ]
  },
  {
   "cell_type": "code",
   "execution_count": 64,
   "id": "e4a5c0ff",
   "metadata": {},
   "outputs": [
    {
     "data": {
      "text/plain": [
       "1.0"
      ]
     },
     "execution_count": 64,
     "metadata": {},
     "output_type": "execute_result"
    }
   ],
   "source": [
    "metrics.precision_score(y_test, y_pred, average='macro')"
   ]
  },
  {
   "cell_type": "code",
   "execution_count": 65,
   "id": "79c2b831",
   "metadata": {},
   "outputs": [
    {
     "data": {
      "text/plain": [
       "1.0"
      ]
     },
     "execution_count": 65,
     "metadata": {},
     "output_type": "execute_result"
    }
   ],
   "source": [
    "metrics.recall_score(y_test, y_pred, average='macro')"
   ]
  }
 ],
 "metadata": {
  "kernelspec": {
   "display_name": "Python 3 (ipykernel)",
   "language": "python",
   "name": "python3"
  },
  "language_info": {
   "codemirror_mode": {
    "name": "ipython",
    "version": 3
   },
   "file_extension": ".py",
   "mimetype": "text/x-python",
   "name": "python",
   "nbconvert_exporter": "python",
   "pygments_lexer": "ipython3",
   "version": "3.8.5"
  }
 },
 "nbformat": 4,
 "nbformat_minor": 5
}
